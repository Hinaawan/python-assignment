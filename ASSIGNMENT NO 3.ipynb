{
 "cells": [
  {
   "cell_type": "code",
   "execution_count": 3,
   "metadata": {},
   "outputs": [
    {
     "name": "stdout",
     "output_type": "stream",
     "text": [
      "enter first value 5\n",
      "enter Second value 3\n",
      "Enter Operator**\n",
      "125 answer\n"
     ]
    }
   ],
   "source": [
    "#QUESTION NO 01\n",
    "\n",
    "#Dictionary\n",
    "\n",
    "val1 = input('enter first value ')\n",
    "val2 = input('enter Second value ')\n",
    "operator = input('Enter Operator')\n",
    "val1=int(val1)\n",
    "val2=int(val2)\n",
    "\n",
    "if operator == '+':\n",
    "    val = val1 + val2\n",
    "    print(val, 'answer')\n",
    "elif operator == '-':\n",
    "    val = val1 - val2\n",
    "    print(val, 'answer')\n",
    "elif operator == '*':\n",
    "    val = val1 * val2\n",
    "    print(val, 'answer')\n",
    "elif operator == '/':\n",
    "    val = val1 / val2\n",
    "    print(val, 'answer')\n",
    "elif operator == '**':\n",
    "    val = val1 ** val2\n",
    "    print(val, 'answer')\n",
    "    \n",
    "else:\n",
    "    print('Enter Correct Operation')"
   ]
  },
  {
   "cell_type": "code",
   "execution_count": 4,
   "metadata": {},
   "outputs": [
    {
     "name": "stdout",
     "output_type": "stream",
     "text": [
      "The number is outside the given range.\n"
     ]
    }
   ],
   "source": [
    "#QUESTION NO 02\n",
    "def test_range(n):\n",
    "    if n in range(3,9):\n",
    "        print( \" %s is in the range\"%str(n))\n",
    "    else :\n",
    "        print(\"The number is outside the given range.\")\n",
    "test_range(2)"
   ]
  },
  {
   "cell_type": "code",
   "execution_count": 19,
   "metadata": {},
   "outputs": [
    {
     "name": "stdout",
     "output_type": "stream",
     "text": [
      "Hina values\n",
      "Mushtaq values\n",
      "HOUSE NO 33, KARACHI values\n",
      "first name keys\n",
      "last name keys\n",
      "address keys\n"
     ]
    }
   ],
   "source": [
    "#Dictonary\n",
    "customer = {\n",
    "    \"first name\": \"Hina\",\n",
    "    \"last name\": \"Mushtaq\",\n",
    "    \"address\": \"HOUSE NO 33, KARACHI\"\n",
    "}\n",
    "for each_value in customer.values():\n",
    "    print(each_value, 'values')\n",
    "for each_value in customer.keys():\n",
    "    print(each_value, 'keys')"
   ]
  },
  {
   "cell_type": "code",
   "execution_count": 20,
   "metadata": {},
   "outputs": [
    {
     "name": "stdout",
     "output_type": "stream",
     "text": [
      "{'first name': 'Hina', 'last name': 'Mushtaq', 'address': 'HOUSE NO 33, KARACHI', 'PHONE NUM': '0300'}\n"
     ]
    }
   ],
   "source": [
    "#QUESTION NO 03\n",
    "\n",
    "#adding a new key\n",
    "\n",
    "customer[\"PHONE NUM\"] = '0300'\n",
    "print(customer)"
   ]
  },
  {
   "cell_type": "code",
   "execution_count": 21,
   "metadata": {},
   "outputs": [
    {
     "name": "stdout",
     "output_type": "stream",
     "text": [
      "Hina values\n",
      "Mushtaq values\n",
      "HOUSE NO 33, KARACHI values\n",
      "0300 values\n",
      "first name keys\n",
      "last name keys\n",
      "address keys\n",
      "PHONE NUM keys\n"
     ]
    }
   ],
   "source": [
    "for each_value in customer.values():\n",
    "    print(each_value, 'values')\n",
    "for each_value in customer.keys():\n",
    "    print(each_value, 'keys')"
   ]
  },
  {
   "cell_type": "code",
   "execution_count": 23,
   "metadata": {},
   "outputs": [
    {
     "name": "stdout",
     "output_type": "stream",
     "text": [
      "Sum : 673\n"
     ]
    }
   ],
   "source": [
    "#QUESTION NO 4\n",
    "\n",
    "# Python3 Program to find sum of all items in a Dictionary   \n",
    "\n",
    "def returnSum(myDict): \n",
    "      \n",
    "    sum = 0\n",
    "    for i in myDict: \n",
    "        sum = sum + myDict[i] \n",
    "      \n",
    "    return sum\n",
    "  \n",
    "# Driver Function \n",
    "dict = {'a': 150, 'b':218, 'c':305} \n",
    "print(\"Sum :\", returnSum(dict)) "
   ]
  },
  {
   "cell_type": "code",
   "execution_count": 29,
   "metadata": {},
   "outputs": [
    {
     "name": "stdout",
     "output_type": "stream",
     "text": [
      "[65, 36, -24]\n"
     ]
    }
   ],
   "source": [
    "#QUESTION NO 05\n",
    "\n",
    "#Python program to print duplicates from a list of integers \n",
    "def Repeat(x): \n",
    "    _size = len(x) \n",
    "    repeated = [] \n",
    "    for i in range(_size): \n",
    "        k = i + 1\n",
    "        for j in range(k, _size): \n",
    "            if x[i] == x[j] and x[i] not in repeated: \n",
    "                repeated.append(x[i]) \n",
    "    return repeated \n",
    "  \n",
    "list1 = [10, 243, 65, 36, 240, 24, 36, 40,  \n",
    "         50, -24, 60, 65, -24, -20] \n",
    "print (Repeat(list1)) "
   ]
  },
  {
   "cell_type": "code",
   "execution_count": 30,
   "metadata": {},
   "outputs": [
    {
     "name": "stdout",
     "output_type": "stream",
     "text": [
      "Key is present in the dictionary\n",
      "Key is not present in the dictionary\n"
     ]
    }
   ],
   "source": [
    "#QUESTION NO 06\n",
    "\n",
    "d = {1: 10, 2: 20, 3: 30, 4: 40, 5: 50, 6: 60}\n",
    "def is_key_present(x):\n",
    "  if x in d:\n",
    "      print('Key is present in the dictionary')\n",
    "  else:\n",
    "      print('Key is not present in the dictionary')\n",
    "is_key_present(5)\n",
    "is_key_present(9)"
   ]
  },
  {
   "cell_type": "code",
   "execution_count": 3,
   "metadata": {},
   "outputs": [
    {
     "name": "stdout",
     "output_type": "stream",
     "text": [
      "Value is not present\n",
      "Value is Present,  value = 100\n"
     ]
    }
   ],
   "source": [
    "#QUESTION NO 7\n",
    "\n",
    "def checkKey(dict, key): \n",
    "      \n",
    "    if key in dict.keys(): \n",
    "        print(\"Value is Present, \", end =\" \") \n",
    "        print(\"value =\", dict[key]) \n",
    "    else: \n",
    "        print(\"Value is not present\") \n",
    "   \n",
    "dict = {'a': 100, 'b':200, 'c':300} \n",
    "  \n",
    "key = 'x'\n",
    "checkKey(dict, key) \n",
    "  \n",
    "key = 'a'\n",
    "checkKey(dict, key) "
   ]
  }
 ],
 "metadata": {
  "kernelspec": {
   "display_name": "Python 3",
   "language": "python",
   "name": "python3"
  },
  "language_info": {
   "codemirror_mode": {
    "name": "ipython",
    "version": 3
   },
   "file_extension": ".py",
   "mimetype": "text/x-python",
   "name": "python",
   "nbconvert_exporter": "python",
   "pygments_lexer": "ipython3",
   "version": "3.7.1"
  }
 },
 "nbformat": 4,
 "nbformat_minor": 2
}
