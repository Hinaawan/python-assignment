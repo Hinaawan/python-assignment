{
 "cells": [
  {
   "cell_type": "code",
   "execution_count": 1,
   "metadata": {},
   "outputs": [
    {
     "name": "stdout",
     "output_type": "stream",
     "text": [
      "Input a number to compute the factiorial : 6\n",
      "720\n"
     ]
    }
   ],
   "source": [
    "                                    #QUESTION NO 1\n",
    "\n",
    "def factorial(n):\n",
    "    if n == 0:\n",
    "        return 1\n",
    "    else:\n",
    "        return n * factorial(n-1)\n",
    "n=int(input(\"Input a number to compute the factiorial : \"))\n",
    "print(factorial(n))"
   ]
  },
  {
   "cell_type": "code",
   "execution_count": 6,
   "metadata": {},
   "outputs": [
    {
     "name": "stdout",
     "output_type": "stream",
     "text": [
      "Original String :  my Name IS Hina\n",
      "No. of Upper case characters :  4\n",
      "No. of Lower case Characters :  8\n"
     ]
    }
   ],
   "source": [
    "                                    #QUESTION NO 2\n",
    "\n",
    "def string_test(s):\n",
    "    d={\"UPPER_CASE\":0, \"LOWER_CASE\":0}\n",
    "    for c in s:\n",
    "        if c.isupper():\n",
    "           d[\"UPPER_CASE\"]+=1\n",
    "        elif c.islower():\n",
    "           d[\"LOWER_CASE\"]+=1\n",
    "        else:\n",
    "           pass\n",
    "    print (\"Original String : \", s)\n",
    "    print (\"No. of Upper case characters : \", d[\"UPPER_CASE\"])\n",
    "    print (\"No. of Lower case Characters : \", d[\"LOWER_CASE\"])\n",
    "\n",
    "string_test('my Name IS Hina')"
   ]
  },
  {
   "cell_type": "code",
   "execution_count": 8,
   "metadata": {},
   "outputs": [
    {
     "name": "stdout",
     "output_type": "stream",
     "text": [
      "122 16 6 444 4 766 876 38 "
     ]
    }
   ],
   "source": [
    "                         #QUESTION NO 3\n",
    "\n",
    "# Python program to print Even Numbers in a List   \n",
    "# list of numbers \n",
    "\n",
    "list1 = [133,122,25,3,16,6,17,23,444,565, 4, 645, 766, 93,876,111,38] \n",
    "  \n",
    "# iterating each number in list \n",
    "for num in list1: \n",
    "      \n",
    "    # checking condition \n",
    "    if num % 2 == 0: \n",
    "       print(num, end = \" \")"
   ]
  },
  {
   "cell_type": "code",
   "execution_count": 15,
   "metadata": {},
   "outputs": [
    {
     "name": "stdout",
     "output_type": "stream",
     "text": [
      "Yes\n"
     ]
    }
   ],
   "source": [
    "                               #QUESTION NO 4\n",
    "\n",
    "def reverse(s): \n",
    "    return s[::-1] \n",
    "  \n",
    "def isPalindrome(s): \n",
    "    rev = reverse(s) \n",
    "   \n",
    "    if (s == rev): \n",
    "        return True\n",
    "    return False\n",
    "  \n",
    "  \n",
    "# Driver code \n",
    "s = \"HanaH\"\n",
    "ans = isPalindrome(s) \n",
    "  \n",
    "if ans == 1: \n",
    "    print(\"Yes\") \n",
    "else: \n",
    "    print(\"No\")"
   ]
  },
  {
   "cell_type": "code",
   "execution_count": 17,
   "metadata": {},
   "outputs": [
    {
     "name": "stdout",
     "output_type": "stream",
     "text": [
      "False\n",
      "True\n"
     ]
    }
   ],
   "source": [
    "                           #QUESTION NO 5\n",
    "def test_prime(n):\n",
    "    if (n==1):\n",
    "        return False\n",
    "    elif (n==2):\n",
    "        return True;\n",
    "    else:\n",
    "        for x in range(2,n):\n",
    "            if(n % x==0):\n",
    "                return False\n",
    "        return True             \n",
    "print(test_prime(4))\n",
    "print(test_prime(2))"
   ]
  },
  {
   "cell_type": "code",
   "execution_count": 9,
   "metadata": {},
   "outputs": [
    {
     "name": "stdout",
     "output_type": "stream",
     "text": [
      "Enter your budget : 1500\n",
      "1.ADD\n",
      "2.EXIT\n",
      "Enter your choice : 1\n",
      "Enter product name : TOMATO\n",
      "Enter quantity : 2 KG\n",
      "Enter price of the product : 200\n",
      "\n",
      "amount left 1300.0\n",
      "1.ADD\n",
      "2.EXIT\n",
      "Enter your choice : 2\n",
      "\n",
      "Amount left : Rs. 1300.0\n",
      "\n",
      "\n",
      "\n",
      "GROCERY LIST\n",
      "TOMATO 2 KG 200.0\n"
     ]
    }
   ],
   "source": [
    "                      #QUESTION NO 5\n",
    "\n",
    "# This loop will go on until the budget is integer or float \n",
    "while True: \n",
    "\ttry: \n",
    "\t\tbg = float(input(\"Enter your budget : \")) \n",
    "\t\t# if budget is integer or float it will be stored \n",
    "\t\t# temporarily in variable 's' \n",
    "\t\ts = bg \n",
    "\texcept ValueError: \n",
    "\t\tprint(\"PRINT NUMBER AS A AMOUNT\") \n",
    "\t\tcontinue\n",
    "\telse: \n",
    "\t\tbreak\n",
    "\n",
    "# dictionary to store product(\"name\"), quantity(\"quant\"), \n",
    "# price(\"price\") with empty list as their values \n",
    "a ={\"name\":[], \"quant\":[], \"price\":[]} \n",
    "\n",
    "# converting dictionary to list for further updation \n",
    "b = list(a.values()) \n",
    "\n",
    "# variable na value of \"name\" from dictionary 'a' \n",
    "na = b[0] \n",
    "\n",
    "# variable qu value of \"quant\" from dictionary 'a' \n",
    "qu = b[1] \n",
    "\n",
    "# variable pr value of \"price\" from dictionary 'a' \n",
    "pr = b[2] \n",
    "\n",
    "# This loop terminates when user select 2.EXIT option when asked \n",
    "# in try it will ask user for an option as an integer (1 or 2) \n",
    "# if correct then proceed else continue asking options \n",
    "while True: \n",
    "\ttry: \n",
    "\t\tch = int(input(\"1.ADD\\n2.EXIT\\nEnter your choice : \")) \n",
    "\texcept ValueError: \n",
    "\t\tprint(\"\\nERROR: Choose only digits from the given option\") \n",
    "\t\tcontinue\n",
    "\telse: \n",
    "\t\t# check the budget is greater than zero and option selected \n",
    "\t\t# by user is 1 i.e. to add an item \n",
    "\t\tif ch == 1 and s>0:\t \n",
    "\n",
    "\t\t\t# input products name\t\t\t\t \n",
    "\t\t\tpn = input(\"Enter product name : \") \n",
    "\t\t\t# input quantity of product \n",
    "\t\t\tq = input(\"Enter quantity : \") \n",
    "\t\t\t# input price of the product \n",
    "\t\t\tp = float(input(\"Enter price of the product : \")) \n",
    "\n",
    "\t\t\tif p>s: \n",
    "\t\t\t\t# checks if price is less than budget \n",
    "\t\t\t\tprint(\"\\nCAN, T BUT THE PRODUCT\") \n",
    "\t\t\t\tcontinue\n",
    "\n",
    "\t\t\telse: \n",
    "\t\t\t\t# checks if product name already in list \n",
    "\t\t\t\tif pn in na: \n",
    "\t\t\t\t\t# find the index of that product \n",
    "\t\t\t\t\tind = na.index(pn) \n",
    "\n",
    "\t\t\t\t\t# remove quantity from \"quant\" index of the product \n",
    "\t\t\t\t\tqu.remove(qu[ind]) \n",
    "\n",
    "\t\t\t\t\t# remove price from \"price\" index of the product \n",
    "\t\t\t\t\tpr.remove(pr[ind]) \n",
    "\n",
    "\t\t\t\t\t# insert new value given by user earlier \n",
    "\t\t\t\t\tqu.insert(ind, q) \n",
    "\n",
    "\t\t\t\t\t# insert new value given by user earlier \n",
    "\t\t\t\t\tpr.insert(ind, p) \n",
    "\n",
    "\t\t\t\t\t# subtracting the price from the budget and assign \n",
    "\t\t\t\t\t# it to 's' sum(pr) is because pr = [100, 200] if \n",
    "\t\t\t\t\t# budget is 500 then s = bg-sum(pr) = 200 \n",
    "\t\t\t\t\t# after updating for same product at index 0 let \n",
    "\t\t\t\t\t# pr = [200, 200] so s = 100 \n",
    "\t\t\t\t\ts = bg-sum(pr) \n",
    "\n",
    "\t\t\t\t\tprint(\"\\namount left\", s) \n",
    "\t\t\t\telse: \n",
    "\t\t\t\t\t# append value of in \"name\", \"quantity\", \"price\" \n",
    "\t\t\t\t\tna.append(pn) \n",
    "\n",
    "\t\t\t\t\t# as na = b[0] it will append all the value in the \n",
    "\t\t\t\t\t# list eg: \"name\":[\"rice\"] \n",
    "\t\t\t\t\tqu.append(q) \n",
    "\n",
    "\t\t\t\t\t# same for quantity and price \n",
    "\t\t\t\t\tpr.append(p)\t \n",
    "\n",
    "\t\t\t\t\t# after appending new value the sum in price \n",
    "\t\t\t\t\t# as to be calculated \n",
    "\t\t\t\t\ts = bg-sum(pr) \n",
    "\n",
    "\t\t\t\t\tprint(\"\\namount left\", s) \n",
    "\n",
    "\t\t# if budget goes zero print \"NO BUDGET\" \n",
    "\t\telif s<= 0: \n",
    "\t\t\tprint(\"\\nNO BUDGET\") \n",
    "\t\telse: \n",
    "\t\t\tbreak\n",
    "\n",
    "# will print amount left in variable 's' \n",
    "print(\"\\nAmount left : Rs.\", s) \n",
    "\n",
    "# if the amount left equals to any amount in price list \n",
    "if s in pr: \n",
    "\t# then printing the name of the product which can buy \n",
    "\tprint(\"\\nAmount left can buy you a\", na[pr.index(s)]) \n",
    "\n",
    "print(\"\\n\\n\\nGROCERY LIST\") \n",
    "\n",
    "# print final grocery list \n",
    "for i in range(len(na)): \n",
    "\tprint(na[i], qu[i], pr[i]) "
   ]
  }
 ],
 "metadata": {
  "kernelspec": {
   "display_name": "Python 3",
   "language": "python",
   "name": "python3"
  },
  "language_info": {
   "codemirror_mode": {
    "name": "ipython",
    "version": 3
   },
   "file_extension": ".py",
   "mimetype": "text/x-python",
   "name": "python",
   "nbconvert_exporter": "python",
   "pygments_lexer": "ipython3",
   "version": "3.7.1"
  }
 },
 "nbformat": 4,
 "nbformat_minor": 2
}
