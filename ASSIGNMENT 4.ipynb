{
 "cells": [
  {
   "cell_type": "code",
   "execution_count": 13,
   "metadata": {},
   "outputs": [
    {
     "name": "stdout",
     "output_type": "stream",
     "text": [
      "{'first_name': 'Ayesha', 'last_name': 'Ahmed', 'age': 23, 'city': 'karachi'}\n"
     ]
    }
   ],
   "source": [
    "                                                  #QUESTION1 \n",
    "#part a\n",
    "\n",
    "Student = {\n",
    "    \"first_name\": \"Ayesha\",\n",
    "    \"last_name\": \"Ahmed\",\n",
    "    \"age\": 23,\n",
    "    \"city\": \"karachi\",\n",
    "    \n",
    "}\n",
    "\n",
    "print(Student)"
   ]
  },
  {
   "cell_type": "code",
   "execution_count": 15,
   "metadata": {},
   "outputs": [
    {
     "name": "stdout",
     "output_type": "stream",
     "text": [
      "{'first_name': 'Ayesha', 'last_name': 'Ahmed', 'age': 23, 'city': 'karachi', 'Qualification': 'under graduate'}\n"
     ]
    }
   ],
   "source": [
    "#Part b\n",
    "Student = {\n",
    "    \"first_name\": \"Ayesha\",\n",
    "    \"last_name\": \"Ahmed\",\n",
    "    \"age\": 23,\n",
    "    \"city\": \"karachi\",\n",
    "    \n",
    "}\n",
    "\n",
    "Student[\"Qualification\"]= \"under graduate\"\n",
    "print(Student)"
   ]
  },
  {
   "cell_type": "code",
   "execution_count": 16,
   "metadata": {},
   "outputs": [
    {
     "name": "stdout",
     "output_type": "stream",
     "text": [
      "{'first_name': 'Ayesha', 'last_name': 'Ahmed', 'age': 23, 'city': 'karachi', 'Qualification': 'Graduate'}\n"
     ]
    }
   ],
   "source": [
    "#Part c\n",
    "Student = {\n",
    "    \"first_name\": \"Ayesha\",\n",
    "    \"last_name\": \"Ahmed\",\n",
    "    \"age\": 23,\n",
    "    \"city\": \"karachi\",\n",
    "    \n",
    "}\n",
    "\n",
    "Student[\"Qualification\"]= \"Graduate\"\n",
    "print(Student)"
   ]
  },
  {
   "cell_type": "code",
   "execution_count": 31,
   "metadata": {},
   "outputs": [
    {
     "name": "stdout",
     "output_type": "stream",
     "text": [
      "{'Country': 'Pakistan', 'Popultaion': 4000, 'Fact': 'Backbone of PAKISTAN'}\n",
      "{'Country': 'Pakistan', 'Popultaion': 6000, 'Fact': 'Big City, Big Heart'}\n",
      "{'Country': 'Pakistan', 'Popultaion': 7000, 'Fact': 'City Of Saints'}\n"
     ]
    }
   ],
   "source": [
    "                                            #QUESTION 2\n",
    "Karachi = {\n",
    "    \"Country\": \"Pakistan\",\n",
    "    \"Popultaion\": 4000,\n",
    "    \"Fact\": \"Backbone of PAKISTAN\",\n",
    "    \n",
    "}\n",
    "\n",
    "\n",
    "Lahore= {\n",
    "    \"Country\": \"Pakistan\",\n",
    "    \"Popultaion\":  6000,\n",
    "    \"Fact\": \"Big City, Big Heart\",\n",
    "    \n",
    "}\n",
    "\n",
    "\n",
    "Hyderabad = {\n",
    "    \"Country\": \"Pakistan\",\n",
    "    \"Popultaion\": 7000,\n",
    "    \"Fact\":  \"City Of Saints\",\n",
    "    \n",
    "}\n",
    "\n",
    "print(Karachi)\n",
    "print(Lahore)\n",
    "print(Hyderabad)"
   ]
  },
  {
   "cell_type": "code",
   "execution_count": 2,
   "metadata": {},
   "outputs": [
    {
     "name": "stdout",
     "output_type": "stream",
     "text": [
      "How old are you?\n",
      "Enter 'quit' when you are finished. 2\n",
      "  You get in free!\n",
      "How old are you?\n",
      "Enter 'quit' when you are finished. 7\n",
      "  Your ticket is $10.\n",
      "How old are you?\n",
      "Enter 'quit' when you are finished. 54\n",
      "  Your ticket is $15.\n",
      "How old are you?\n",
      "Enter 'quit' when you are finished. quit\n"
     ]
    }
   ],
   "source": [
    "                                          #QUESTION 3\n",
    "\n",
    "prompt = \"How old are you?\"\n",
    "prompt += \"\\nEnter 'quit' when you are finished. \"\n",
    "\n",
    "while True:\n",
    "    age = input(prompt)\n",
    "    if age == 'quit':\n",
    "        break\n",
    "    age = int(age)\n",
    "\n",
    "    if age < 3:\n",
    "        print(\"  You get in free!\")\n",
    "    elif age < 13:\n",
    "        print(\"  Your ticket is $10.\")\n",
    "    else:\n",
    "        print(\"  Your ticket is $15.\")"
   ]
  },
  {
   "cell_type": "code",
   "execution_count": 8,
   "metadata": {},
   "outputs": [
    {
     "name": "stdout",
     "output_type": "stream",
     "text": [
      "Animal Farm is one of my favorite books.\n"
     ]
    }
   ],
   "source": [
    "                              #QUESTION 4\n",
    "    \n",
    "def favorite_book(title):\n",
    "  \n",
    "    print(title + \" is one of my favorite books.\")\n",
    "\n",
    "favorite_book('Animal Farm')"
   ]
  },
  {
   "cell_type": "code",
   "execution_count": null,
   "metadata": {},
   "outputs": [
    {
     "name": "stdout",
     "output_type": "stream",
     "text": [
      "Type: E, M, H for easy, medium, or hard number range:\n",
      "E\n",
      "Your guess: 5\n",
      "Too Low\n",
      "Your guess: 8\n",
      "Correct guess!\n",
      "\n"
     ]
    }
   ],
   "source": [
    "                                          #QUESTION 5\n",
    "import random\n",
    "\n",
    "def gameNumber():\n",
    "     while True:\n",
    "        difficulty = input(\"Type: E, M, H for easy, medium, or hard number range:\\n\").lower()    \n",
    "\n",
    "        if difficulty == 'e':\n",
    "            return random.randint(0,20)\n",
    "\n",
    "        elif difficulty == 'm':\n",
    "            return random.randint(0,50)\n",
    "\n",
    "        elif difficulty == 'h':\n",
    "            return random.randint(0,100)\n",
    "\n",
    "        else:\n",
    "            print(\"Incorrect input\")\n",
    "\n",
    "\n",
    "def numberGuessGame():\n",
    "    number = gameNumber()\n",
    "    while True:        \n",
    "        try:  \n",
    "           guess = int(input(\"Your guess: \"))\n",
    "           if number == guess:\n",
    "               print(\"Correct guess!\\n\")\n",
    "               return numberGuessGame() if input(\"play again?(y/any key to exit) \").lower() == 'y' else 0\n",
    "           print(\"Too High\" if number < guess else \"Too Low\")            \n",
    "        except ValueError:\n",
    "            print(\"must be an integer value\\n\")\n",
    "\n",
    "\n",
    "def main():\n",
    "    numberGuessGame()\n",
    "\n",
    "if __name__ == '__main__':\n",
    "    main()"
   ]
  }
 ],
 "metadata": {
  "kernelspec": {
   "display_name": "Python 3",
   "language": "python",
   "name": "python3"
  },
  "language_info": {
   "codemirror_mode": {
    "name": "ipython",
    "version": 3
   },
   "file_extension": ".py",
   "mimetype": "text/x-python",
   "name": "python",
   "nbconvert_exporter": "python",
   "pygments_lexer": "ipython3",
   "version": "3.7.1"
  }
 },
 "nbformat": 4,
 "nbformat_minor": 2
}
