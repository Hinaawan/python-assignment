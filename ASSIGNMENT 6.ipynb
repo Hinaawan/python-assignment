{
 "cells": [
  {
   "cell_type": "markdown",
   "metadata": {},
   "source": [
    "#QUESTION 1\n",
    "\n",
    "Object-oriented programming (OOP) refers to a type of computer programming (software design) in which programmers define not only the data type of a data structure, but also the types of operations (functions) that can be applied to the data structure."
   ]
  },
  {
   "cell_type": "markdown",
   "metadata": {},
   "source": [
    "#QUESTION 2\n",
    "\n",
    "Re-usability. \n",
    "Data Redundancy. \n",
    "Code Maintenance. \n",
    "Security. \n",
    "Design Benefits.\n",
    "Better productivity. \n",
    "Easy troubleshooting.\n",
    "Polymorphism Flexibility."
   ]
  },
  {
   "cell_type": "markdown",
   "metadata": {},
   "source": [
    "#QUESTION 3\n",
    "\n",
    "A function is a piece of code that is called by name. It can be passed data to operate on (i.e. the parameters) and can optionally return data (the return value). All data that is passed to a function is explicitly passed. A method is a piece of code that is called by a name that is associated with an object."
   ]
  },
  {
   "cell_type": "markdown",
   "metadata": {},
   "source": [
    "#QUESTION 4\n",
    "\n",
    "Classes and Objects are basic concepts of Object Oriented Programming which revolve around the real life entities. Class. A class is a user defined blueprint or prototype from which objects are created. It represents the set of properties or methods that are common to all objects of one type.\n",
    "An object's state is defined by the attributes of the object and by the values these have. In your case, name, age, gender. The term \"behavior\" refers to how objects interact with each other , and it is defined by the operations an object can perform.\n",
    "Class attributes are attributes which are owned by the class itself. They will be shared by all the instances of the class. Therefore they have the same value for every instance. We define class attributes outside of all the methods, usually they are placed at the top, right below the class header."
   ]
  },
  {
   "cell_type": "code",
   "execution_count": 4,
   "metadata": {},
   "outputs": [],
   "source": [
    "class Car:\n",
    "\n",
    "    # create class attributes\n",
    "    name = \"c200\"\n",
    "    make = \"mercedez\"\n",
    "    model = 2008\n",
    "    color = \"blue\"\n",
    "    owner = \"hina\"\n",
    "\n",
    "    # create class methods\n",
    "    def start(self):\n",
    "        print (\"Engine started\")\n",
    "\n",
    "    def stop(self):\n",
    "        print (\"Engine switched off\")"
   ]
  }
 ],
 "metadata": {
  "kernelspec": {
   "display_name": "Python 3",
   "language": "python",
   "name": "python3"
  },
  "language_info": {
   "codemirror_mode": {
    "name": "ipython",
    "version": 3
   },
   "file_extension": ".py",
   "mimetype": "text/x-python",
   "name": "python",
   "nbconvert_exporter": "python",
   "pygments_lexer": "ipython3",
   "version": "3.7.1"
  }
 },
 "nbformat": 4,
 "nbformat_minor": 2
}
